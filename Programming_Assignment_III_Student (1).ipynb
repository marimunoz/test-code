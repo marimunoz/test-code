{
 "cells": [
  {
   "cell_type": "markdown",
   "id": "7b86ea8c",
   "metadata": {},
   "source": [
    "# 🐍 Programming Assignment III: Functions in Python\n",
    "\n",
    "**Instructions:**\n",
    "- Complete each of the five exercises by writing a function as described.\n",
    "- Do not modify the test cases provided.\n",
    "- Your function should produce the expected output shown in each example.\n",
    "- Use comments in your code and markdown blocks to explain your logic!!\n",
    "- Do not use global variables.\n",
    "- Run the notebook after completing each exercise to check your work and submit .html report to Canvas."
   ]
  },
  {
   "cell_type": "markdown",
   "id": "c72a7cd7",
   "metadata": {},
   "source": [
    "## Exercise 1: Even or Odd Counter\n",
    "Write a function `count_even_odd(numbers)` that takes a list of integers and returns the number of even and odd numbers."
   ]
  },
  {
   "cell_type": "code",
   "execution_count": 2,
   "id": "82e204af",
   "metadata": {},
   "outputs": [
    {
     "name": "stdout",
     "output_type": "stream",
     "text": [
      "You have 2 even and 3 odd numbers.\n",
      "More odds! Keeping it funky.\n",
      "(2, 3)\n",
      "You have 3 even and 0 odd numbers.\n",
      "More evens, nice and balanced!\n",
      "(3, 0)\n"
     ]
    }
   ],
   "source": [
    "def count_even_odd(numbers):\n",
    "    even = 0\n",
    "    odd = 0\n",
    "    for num in numbers:\n",
    "        if num % 2 == 0:\n",
    "            even += 1\n",
    "        else:\n",
    "            odd += 1\n",
    "    print(f\"You have {even} even and {odd} odd numbers.\")\n",
    "    if even > odd:\n",
    "        print(\"More evens, nice and balanced!\")\n",
    "    elif odd > even:\n",
    "        print(\"More odds! Keeping it funky.\")\n",
    "    else:\n",
    "        print(\"Perfectly even!\")\n",
    "    return (even, odd)\n",
    "\n",
    "\n",
    "# Test cases (do not modify)\n",
    "print(count_even_odd([1, 2, 3, 4, 5]))  # Expected: (2, 3)\n",
    "print(count_even_odd([2, 4, 6]))        # Expected: (3, 0)"
   ]
  },
  {
   "cell_type": "markdown",
   "id": "3527cc0f",
   "metadata": {},
   "source": [
    "## Exercise 2: City Temperature Tracker\n",
    "\n",
    "In this exercise, you’ll write a function that helps track and analyze city temperatures.\n",
    "\n",
    "### Your Task:\n",
    "Write a function called `analyze_temperatures(city, temps_in_f)` that takes:\n",
    "\n",
    "- `city`: a string representing the name of a city  \n",
    "- `temps_in_f`: a **list of numbers** representing daily temperatures in **Fahrenheit**\n",
    "\n",
    "Your function should:\n",
    "\n",
    "1. Convert each temperature in the list from **Fahrenheit to Celsius** using the formula:  \n",
    "   $ \n",
    "   C = (F - 32) \\times \\frac{5}{9}\n",
    "   $ \n",
    "\n",
    "2. Calculate:\n",
    "   - The **average** temperature in Celsius  \n",
    "   - The **highest** temperature in Celsius  \n",
    "   - The **lowest** temperature in Celsius  \n",
    "\n",
    "3. Print a sentence using this format:\n"
   ]
  },
  {
   "cell_type": "code",
   "execution_count": 3,
   "id": "078f7de0",
   "metadata": {},
   "outputs": [
    {
     "name": "stdout",
     "output_type": "stream",
     "text": [
      "In Berlin, the average temperature was 23.9°C, with a high of 26.7°C and a low of 21.1°C.\n",
      "Just right.\n"
     ]
    }
   ],
   "source": [
    "def analyze_temperatures(city, temps_in_f):\n",
    "    temps_c = []\n",
    "    for temp in temps_in_f:\n",
    "        c = (temp - 32) * 5 / 9\n",
    "        temps_c.append(c)\n",
    "\n",
    "    avg = sum(temps_c) / len(temps_c)\n",
    "    high = max(temps_c)\n",
    "    low = min(temps_c)\n",
    "\n",
    "    print(f\"In {city}, the average temperature was {avg:.1f}°C, with a high of {high:.1f}°C and a low of {low:.1f}°C.\")\n",
    "    \n",
    "    if avg > 25:\n",
    "        print(\"It's giving summer vibes!\")\n",
    "    elif avg < 10:\n",
    "        print(\"It's cold... bundle up!\")\n",
    "    else:\n",
    "        print(\"Just perf.\")\n",
    "\n",
    "\n",
    "# Test case (do not modify)\n",
    "analyze_temperatures(\"Berlin\", [70, 75, 80]) # Expected Output:\n",
    "# In Berlin, the average temperature was 23.9°C, with a high of 26.7°C and a low of 21.1°C."
   ]
  },
  {
   "cell_type": "markdown",
   "id": "f23b688f",
   "metadata": {},
   "source": [
    "## Exercise 3: Secret Code Encoder\n",
    "Write two functions:\n",
    "- `encode_message(message)` replaces vowels with symbols: a→@, e→3, i→!, o→0, u→#\n",
    "- `decode_message(encoded)` converts the symbols back to the original vowels."
   ]
  },
  {
   "cell_type": "code",
   "execution_count": 10,
   "id": "f60f1a21",
   "metadata": {},
   "outputs": [
    {
     "name": "stdout",
     "output_type": "stream",
     "text": [
      "h3ll0 w0rld \n",
      "hello world\n"
     ]
    }
   ],
   "source": [
    "def encode_message(message):\n",
    "    result = \"\"\n",
    "    for ch in message:\n",
    "        if ch == 'a':\n",
    "            result += '@'\n",
    "        elif ch == 'e':\n",
    "            result += '3'\n",
    "        elif ch == 'i':\n",
    "            result += '!'\n",
    "        elif ch == 'o':\n",
    "            result += '0'\n",
    "        elif ch == 'u':\n",
    "            result += '#'\n",
    "        else:\n",
    "            result += ch\n",
    "    return result + \" \"\n",
    "\n",
    "def decode_message(encoded):\n",
    "    encoded = encoded.replace(\" n\", \"\") \n",
    "    result = \"\"\n",
    "    for ch in encoded:\n",
    "        if ch == '@':\n",
    "            result += 'a'\n",
    "        elif ch == '3':\n",
    "            result += 'e'\n",
    "        elif ch == '!':\n",
    "            result += 'i'\n",
    "        elif ch == '0':\n",
    "            result += 'o'\n",
    "        elif ch == '#':\n",
    "            result += 'u'\n",
    "        else:\n",
    "            result += ch\n",
    "    return result\n",
    "\n",
    "\n",
    "# Test cases (do not modify)\n",
    "print(encode_message(\"hello world\"))      # Expected: h3ll0 w0rld\n",
    "print(decode_message(\"h3ll0 w0rld\"))      # Expected: hello world\n"
   ]
  },
  {
   "cell_type": "markdown",
   "id": "e307b56b",
   "metadata": {},
   "source": [
    "## Exercise 4: Custom Calculator\n",
    "Write a function `custom_calculator(a, b, operation)` that performs the selected operation on two numbers.\n",
    "- Supported operations: 'add', 'subtract', 'multiply', 'divide'\n",
    "- Print the operation and result in a readable sentence.\n",
    "- Handle division by zero."
   ]
  },
  {
   "cell_type": "code",
   "execution_count": 8,
   "id": "8c911722",
   "metadata": {},
   "outputs": [
    {
     "ename": "SyntaxError",
     "evalue": "invalid syntax (57274574.py, line 3)",
     "output_type": "error",
     "traceback": [
      "\u001b[0;36m  Cell \u001b[0;32mIn[8], line 3\u001b[0;36m\u001b[0m\n\u001b[0;31m    result =\u001b[0m\n\u001b[0m             ^\u001b[0m\n\u001b[0;31mSyntaxError\u001b[0m\u001b[0;31m:\u001b[0m invalid syntax\n"
     ]
    }
   ],
   "source": [
    "def custom_calculator(a, b, operation):\n",
    "    if operation == \"add\":\n",
    "        result = \n",
    "        print(f\"Adding {a} + {b} = {result} — sum it up!\")\n",
    "    elif operation == \"subtract\":\n",
    "        result = \n",
    "        print(f\"{a} minus {b} = {result} — taking it down a notch.\")\n",
    "    elif operation == \"multiply\":\n",
    "        result = \n",
    "        print(f\"{a} times {b} = {result} — multiply the vibes!\")\n",
    "    elif operation == \"divide\":\n",
    "        if b == 0:\n",
    "            print(\"Oops! Can't divide by zero.\")\n",
    "        else:\n",
    "            result = a / b\n",
    "            print(f\"{a} divided by {b} = {result} — split and conquer.\")\n",
    "\n",
    "\n",
    "# Test cases (do not modify)\n",
    "# Expected: Adding 5 and 3 gives 8\n",
    "custom_calculator(5, 3, \"add\")\n",
    "\n",
    "# Expected: Dividing 10 by 2 gives 5.0\n",
    "custom_calculator(10, 2, \"divide\")\n",
    "\n",
    "# Expected: Cannot divide by zero\n",
    "custom_calculator(7, 0, \"divide\")\n"
   ]
  },
  {
   "cell_type": "markdown",
   "id": "f6c39e55",
   "metadata": {},
   "source": [
    "## Exercise 5: Silly Story Generator\n",
    "Write a function `generate_story(name, place, object, emotion)` that:\n",
    "- Capitalizes the first letter of the name (check capitalize() function in Python).\n",
    "- Converts the emotion to ALL CAPS\n",
    "- Returns a multi-line string using all inputs."
   ]
  },
  {
   "cell_type": "code",
   "execution_count": 9,
   "id": "87be71cf",
   "metadata": {},
   "outputs": [
    {
     "name": "stdout",
     "output_type": "stream",
     "text": [
      "One cloudy day, Lena wandered into the library with a mysterious banana.\n",
      "Suddenly, a wild feeling of SURPRISE took over!\n",
      "No one expected what happened next...\n"
     ]
    }
   ],
   "source": [
    "def generate_story(name, place, object, emotion):\n",
    "    name = name.capitalize()\n",
    "    emotion = emotion.upper()\n",
    "\n",
    "    story = f\"One cloudy day, {name} wandered into the {place} with a mysterious {object}.\\n\"\n",
    "    story += f\"Suddenly, a wild feeling of {emotion} took over!\\n\"\n",
    "    story += f\"No one expected what happened next...\"\n",
    "    return story\n",
    "\n",
    "\n",
    "# Test case (do not modify)\n",
    "# Expected:\n",
    "# One day, Lena went to library with a banana in hand.\n",
    "# Suddenly, they felt SURPRISE!!!.\n",
    "# It was the beginning of something unexpected...\n",
    "print(generate_story(\"lena\", \"library\", \"banana\", \"surprise\"))\n"
   ]
  },
  {
   "cell_type": "code",
   "execution_count": null,
   "id": "9c1c9fa0",
   "metadata": {},
   "outputs": [],
   "source": []
  }
 ],
 "metadata": {
  "kernelspec": {
   "display_name": "Python 3",
   "language": "python",
   "name": "python3"
  },
  "language_info": {
   "codemirror_mode": {
    "name": "ipython",
    "version": 3
   },
   "file_extension": ".py",
   "mimetype": "text/x-python",
   "name": "python",
   "nbconvert_exporter": "python",
   "pygments_lexer": "ipython3",
   "version": "3.9.6"
  }
 },
 "nbformat": 4,
 "nbformat_minor": 5
}
