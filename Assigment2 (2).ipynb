{
 "cells": [
  {
   "cell_type": "markdown",
   "id": "a97cd20f",
   "metadata": {},
   "source": [
    "# 🐍 Programming Assignment II: Repetition Structures"
   ]
  },
  {
   "cell_type": "markdown",
   "id": "3ed6c621",
   "metadata": {},
   "source": [
    "## Submission Instructions:\n",
    "- Complete all five exercises.\n",
    "- Ensure your code runs without errors.\n",
    "- Submit your .html file with clear comments explaining your logic.\n",
    "- Follow good programming practices such as meaningful variable names and proper indentation.\n",
    "\n",
    "Good luck! 🚀"
   ]
  },
  {
   "cell_type": "markdown",
   "id": "981ffebf",
   "metadata": {},
   "source": [
    "------------------------------------------------------------------------------------------------------------------------------------------------------------------------------------------------------------------------"
   ]
  },
  {
   "cell_type": "markdown",
   "id": "092911fe",
   "metadata": {},
   "source": [
    "## Exercise 1: Sum of Numbers Using a `for` Loop\n",
    "Write a program that asks the user for a **positive integer (n)** and then calculates the sum of all numbers from **1 to n** using a `for` loop.\n",
    "\n",
    "### Example Input:\n",
    "```\n",
    "Enter a positive integer: 5\n",
    "```\n",
    "### Example Output:\n",
    "```\n",
    "The sum of numbers from 1 to 5 is 15.\n",
    "```\n",
    "*(Explanation: 1 + 2 + 3 + 4 + 5 = 15)*"
   ]
  },
  {
   "cell_type": "code",
   "execution_count": 14,
   "id": "72c52698",
   "metadata": {},
   "outputs": [
    {
     "ename": "SyntaxError",
     "evalue": "invalid syntax (3106733968.py, line 8)",
     "output_type": "error",
     "traceback": [
      "\u001b[0;36m  Cell \u001b[0;32mIn[14], line 8\u001b[0;36m\u001b[0m\n\u001b[0;31m    print(f'The sum of numbers from 1 to {n} is {total}'.)\u001b[0m\n\u001b[0m                                                         ^\u001b[0m\n\u001b[0;31mSyntaxError\u001b[0m\u001b[0;31m:\u001b[0m invalid syntax\n"
     ]
    }
   ],
   "source": [
    "n = int(input(\"Enter a positive integer: \")) \n",
    "\n",
    "total = 0\n",
    "\n",
    "for i in range(1, n + 1):\n",
    "  total += i \n",
    "\n",
    "print(f'The sum of numbers from 1 to {n} is {total}'.)\n",
    "\n",
    "#im not too sure where i went wrong \n"
   ]
  },
  {
   "cell_type": "markdown",
   "id": "0d401f31",
   "metadata": {},
   "source": [
    "## Exercise 2 (15 points): Find the Largest Number Using a `for` Loop\n",
    "Write a program that asks the user to enter **5 numbers**, one at a time. After all numbers are entered, the program should display the **largest number**.\n",
    "\n",
    "### Example Input:\n",
    "```\n",
    "Enter number 1: 12\n",
    "Enter number 2: 45\n",
    "Enter number 3: 7\n",
    "Enter number 4: 89\n",
    "Enter number 5: 23\n",
    "```\n",
    "### Example Output:\n",
    "```\n",
    "The largest number is: 89\n",
    "```\n"
   ]
  },
  {
   "cell_type": "code",
   "execution_count": 9,
   "id": "281667c3",
   "metadata": {},
   "outputs": [
    {
     "name": "stdout",
     "output_type": "stream",
     "text": [
      "The largest number is 100.0.\n"
     ]
    }
   ],
   "source": [
    "largest = float('100')\n",
    "\n",
    "for i in range(5):\n",
    "    num = float(input(f\"Enter number {i + 1}: \"))\n",
    "\n",
    "    if num > largest:\n",
    "        largest = num\n",
    "\n",
    "print(f\"The largest number is {largest}.\")        "
   ]
  },
  {
   "cell_type": "markdown",
   "id": "d2b4241f",
   "metadata": {},
   "source": [
    "## Exercise 3: Guess the Secret Number Using a `while` Loop\n",
    "1. Generate a **random number** between **1 and 100**.\n",
    "2. Ask the user to guess the number.\n",
    "3. If the guess is too high, print **\"Too high! Try again.\"**.\n",
    "4. If the guess is too low, print **\"Too low! Try again.\"**.\n",
    "5. If the guess is correct, print **\"Correct! You guessed it in X tries.\"**.\n",
    "6. Use a **while** loop to keep asking until they guess correctly.\n",
    "\n",
    "### Example Flow:\n",
    "```\n",
    "I'm thinking of a number between 1 and 100...\n",
    "Enter your guess: 50\n",
    "Too high! Try again.\n",
    "Enter your guess: 30\n",
    "Too low! Try again.\n",
    "Enter your guess: 42\n",
    "Correct! You guessed it in 3 tries.\n",
    "```"
   ]
  },
  {
   "cell_type": "code",
   "execution_count": 12,
   "id": "f6bf8693",
   "metadata": {},
   "outputs": [
    {
     "ename": "NameError",
     "evalue": "name 'random' is not defined",
     "output_type": "error",
     "traceback": [
      "\u001b[0;31m---------------------------------------------------------------------------\u001b[0m",
      "\u001b[0;31mNameError\u001b[0m                                 Traceback (most recent call last)",
      "Cell \u001b[0;32mIn[12], line 1\u001b[0m\n\u001b[0;32m----> 1\u001b[0m secret_num \u001b[38;5;241m=\u001b[39m \u001b[43mrandom\u001b[49m\u001b[38;5;241m.\u001b[39mrandint(\u001b[38;5;241m1\u001b[39m, \u001b[38;5;241m100\u001b[39m)\n\u001b[1;32m      3\u001b[0m guess \u001b[38;5;241m=\u001b[39m \u001b[38;5;241m0\u001b[39m\n\u001b[1;32m      4\u001b[0m tries \u001b[38;5;241m=\u001b[39m \u001b[38;5;241m2\u001b[39m\n",
      "\u001b[0;31mNameError\u001b[0m: name 'random' is not defined"
     ]
    }
   ],
   "source": [
    "secret_num = random.randint(1, 100)\n",
    "\n",
    "guess = 0\n",
    "tries = 2\n",
    "\n",
    "while guess != secret_num:\n",
    "    guess = int(input(\"Guess the number (between 1 and 100): \"))\n",
    "    tries += 1 \n",
    "\n",
    "    if guess > secret_num:\n",
    "        print(\"Too high! Try again.\")\n",
    "    elif guess < secret_num:\n",
    "        print(\"Too low! Try again. \") \n",
    "    else:\n",
    "        print(f\"Correct! You guessed it in {tries} tries.\")       "
   ]
  },
  {
   "cell_type": "markdown",
   "id": "68691580",
   "metadata": {},
   "source": [
    "## Exercise 4: Input Validation Using a `while` Loop\n",
    "Write a program that asks the user to enter a **positive number**. If the user enters a **negative number or zero**, the program should keep asking until they enter a valid number.\n",
    "\n",
    "### Example Input & Output:\n",
    "```\n",
    "Enter a positive number: -5\n",
    "Invalid! Please enter a positive number.\n",
    "Enter a positive number: 0\n",
    "Invalid! Please enter a positive number.\n",
    "Enter a positive number: 8\n",
    "You entered: 8\n",
    "```\n"
   ]
  },
  {
   "cell_type": "code",
   "execution_count": 15,
   "id": "368bb661",
   "metadata": {},
   "outputs": [
    {
     "name": "stdout",
     "output_type": "stream",
     "text": [
      "You entered: 5\n"
     ]
    }
   ],
   "source": [
    "number = int(input(\"Enter a positive number: \"))\n",
    "\n",
    "while number <= 0:\n",
    "    print(\"Invalid! Please enter a positive number.\")\n",
    "    number = int(input(\"Enter a positive number: \"))\n",
    "\n",
    "print(\"You entered:\", number)    "
   ]
  },
  {
   "cell_type": "markdown",
   "id": "690e45da",
   "metadata": {},
   "source": [
    "## Exercise 5: Count Even and Odd Numbers Using a `for` Loop\n",
    "Write a program that asks the user to enter **a sequence of numbers (separated by spaces)**. The program should count how many numbers are **even** and how many are **odd**.\n",
    "\n",
    "### Example Input:\n",
    "```\n",
    "Enter numbers: 10 15 22 33 40 57 60\n",
    "```\n",
    "### Example Output:\n",
    "```\n",
    "Even numbers: 4\n",
    "Odd numbers: 3\n",
    "```\n"
   ]
  },
  {
   "cell_type": "code",
   "execution_count": 18,
   "id": "83dfeaae",
   "metadata": {},
   "outputs": [
    {
     "ename": "SyntaxError",
     "evalue": "invalid syntax (804246936.py, line 8)",
     "output_type": "error",
     "traceback": [
      "\u001b[0;36m  Cell \u001b[0;32mIn[18], line 8\u001b[0;36m\u001b[0m\n\u001b[0;31m    if int(num) % 2 == 0   #Here i thought if i put == 0 would equal to 0\u001b[0m\n\u001b[0m                           ^\u001b[0m\n\u001b[0;31mSyntaxError\u001b[0m\u001b[0;31m:\u001b[0m invalid syntax\n"
     ]
    }
   ],
   "source": [
    "user_input = input(\"Enter numbers: \")\n",
    "\n",
    "numbers = user_input()  #im trying to split my string but i am missing something\n",
    "odd_count = 0\n",
    "even_count = 0\n",
    "\n",
    "for num in numbers:\n",
    "    if int(num) % 2 == 0   #Here i thought if i put == 0 would check if my reminder equals to 0, but when I run my code it isnt running right\n",
    "       even_count += 1\n",
    "    else: odd_count += 1\n",
    "\n",
    "print(\"odd numbers:\", odd_count)\n",
    "print(\"even numbers:\", even_count)       "
   ]
  },
  {
   "cell_type": "code",
   "execution_count": null,
   "id": "e7bf64b7",
   "metadata": {},
   "outputs": [],
   "source": []
  }
 ],
 "metadata": {
  "kernelspec": {
   "display_name": "Python 3",
   "language": "python",
   "name": "python3"
  },
  "language_info": {
   "codemirror_mode": {
    "name": "ipython",
    "version": 3
   },
   "file_extension": ".py",
   "mimetype": "text/x-python",
   "name": "python",
   "nbconvert_exporter": "python",
   "pygments_lexer": "ipython3",
   "version": "3.9.6"
  }
 },
 "nbformat": 4,
 "nbformat_minor": 5
}
